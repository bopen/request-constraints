{
 "cells": [
  {
   "cell_type": "code",
   "execution_count": 66,
   "id": "ba0819f5-3bca-4fc4-8ab7-2207b23fc1d0",
   "metadata": {
    "scrolled": true
   },
   "outputs": [],
   "source": [
    "from typing import Any\n",
    "import json\n",
    "import datetime\n",
    "import re\n",
    "import itertools\n"
   ]
  },
  {
   "cell_type": "code",
   "execution_count": 67,
   "id": "99aab275",
   "metadata": {},
   "outputs": [
    {
     "name": "stdout",
     "output_type": "stream",
     "text": [
      "The autoreload extension is already loaded. To reload it, use:\n",
      "  %reload_ext autoreload\n"
     ]
    }
   ],
   "source": [
    "%load_ext autoreload\n",
    "%autoreload 2"
   ]
  },
  {
   "cell_type": "code",
   "execution_count": null,
   "id": "a471a3b1",
   "metadata": {},
   "outputs": [],
   "source": []
  },
  {
   "cell_type": "code",
   "execution_count": 48,
   "id": "44a4598c",
   "metadata": {
    "scrolled": false
   },
   "outputs": [
    {
     "ename": "SyntaxError",
     "evalue": "invalid syntax. Perhaps you forgot a comma? (4108434546.py, line 128)",
     "output_type": "error",
     "traceback": [
      "\u001b[0;36m  Cell \u001b[0;32mIn [48], line 128\u001b[0;36m\u001b[0m\n\u001b[0;31m    selection1\u001b[0m\n\u001b[0m    ^\u001b[0m\n\u001b[0;31mSyntaxError\u001b[0m\u001b[0;31m:\u001b[0m invalid syntax. Perhaps you forgot a comma?\n"
     ]
    }
   ],
   "source": [
    "form: dict[str, set[Any]] = {\n",
    "    \"date\" : {},\n",
    "    \"year\" : {\"1999\",\"2010\", \"2011\", \"2012\", \"2013\", \"2014\", \"2015\", \"2016\", \"2017\", \"2018\", \"2019\"},\n",
    "    \"month\" : {'1', '2', '3', '4', '5', '6', '7', '8', '9', '10', '11', '12'},\n",
    "    \"day\" : {'1','2','3','4','5','6','7','8','9','10','11','12','13','14','15','16','17','18','19','20','21','22','23','24','25','26','27','28', '29', '30', '31'},\n",
    "    \"time\" : {\"00:00\", \"03:00\", \"12:00\", \"21:00\"},\n",
    "    \"city\": {\"rome\", \"paris\", \"london\", \"madrid\"},\n",
    "    \"level\": {\"500\", \"850\"},\n",
    "    \"param\": {\"Z\", \"T\"},\n",
    "    \"step\": {\"24\", \"36\", \"48\"}\n",
    "}\n",
    "    \n",
    "combinations1: list[dict[str, set[Any]]] = [{\n",
    "    \"year\" : {\"2010\", \"2011\", \"2012\", \"2013\", \"2014\", \"2015\", \"2016\", \"2017\", \"2018\", \"2019\"},\n",
    "    \"month\" : {'1', '2', '3', '4', '5', '6', '7', '8', '9', '10', '11', '12'},\n",
    "    \"day\" : {'1','2','3','4','5','6','7','8','9','10','11','12','13','14','15','16','17','18','19','20','21','22','23','24','25','26','27','28'},\n",
    "    \"time\" : {\"00:00\", \"03:00\", \"12:00\", \"21:00\"},\n",
    "    \"city\": {\"rome\", \"paris\", \"london\"},\n",
    "    \"level\": {\"500\"},\n",
    "    \"param\": {\"Z\"},\n",
    "    \"step\": {\"24\", \"36\", \"48\"}\n",
    "}, {\n",
    "    \"year\" : {\"2012\", \"2016\"},\n",
    "    \"month\" : {'2'},\n",
    "    \"day\" : {'29'},\n",
    "    \"time\" : {\"00:00\", \"03:00\", \"12:00\", \"21:00\"},\n",
    "    \"city\": {\"rome\", \"paris\", \"london\"},\n",
    "    \"level\": {\"500\"},\n",
    "    \"param\": {\"Z\"},\n",
    "    \"step\": {\"24\", \"36\", \"48\"}\n",
    "}, {\n",
    "    \"year\" : {\"2010\", \"2011\", \"2012\", \"2013\", \"2014\", \"2015\", \"2016\", \"2017\", \"2018\", \"2019\"},\n",
    "    \"month\" : {'1', '2', '3', '4', '5', '6', '7', '8', '9', '10', '11', '12'},\n",
    "    \"day\" : {'1','2','3','4','5','6','7','8','9','10','11','12','13','14','15','16','17','18','19','20','21','22','23','24','25','26','27','28'},\n",
    "    \"time\" : {\"00:00\", \"03:00\", \"12:00\", \"21:00\"},\n",
    "    \"city\": {\"paris\", \"london\"},\n",
    "    \"level\": {\"1000\"},\n",
    "    \"param\": {\"Z\"},\n",
    "    \"step\": {\"24\", \"48\"}\n",
    "}, {\n",
    "    \"year\" : {\"2010\", \"2011\", \"2012\", \"2013\", \"2014\", \"2015\", \"2016\", \"2017\", \"2018\", \"2019\"},\n",
    "    \"month\" : {'1', '2', '3', '4', '5', '6', '7', '8', '9', '10', '11', '12'},\n",
    "    \"day\" : {'1','2','3','4','5','6','7','8','9','10','11','12','13','14','15','16','17','18','19','20','21','22','23','24','25','26','27','28'},\n",
    "    \"time\" : {\"00:00\", \"03:00\", \"12:00\", \"21:00\"},\n",
    "    \"city\": {\"rome\", \"paris\", \"london\"},\n",
    "    \"level\": {\"850\"},\n",
    "    \"param\": {\"T\"},\n",
    "    \"step\": {\"36\", \"48\"}\n",
    "}, {\n",
    "    \"year\" : {\"2010\", \"2011\", \"2012\", \"2013\", \"2014\", \"2015\", \"2016\", \"2017\", \"2018\", \"2019\"},\n",
    "    \"month\" : {'1', '2', '3', '4', '5', '6', '7', '8', '9', '10', '11', '12'},\n",
    "    \"day\" : {'1','2','3','4','5','6','7','8','9','10','11','12','13','14','15','16','17','18','19','20','21','22','23','24','25','26','27','28'},\n",
    "    \"time\" : {\"00:00\", \"03:00\", \"12:00\", \"21:00\"},\n",
    "    \"city\": {\"Madrid\"},\n",
    "    \"level\": {\"500\"},\n",
    "    \"param\": {\"T\"},\n",
    "    \"step\": {\"48\"}\n",
    "}, {\n",
    "    \"year\" : {\"2010\"},\n",
    "    \"month\" : {'1'},\n",
    "    \"day\" : {'1'},\n",
    "    \"city\": {\"Madrid\"},\n",
    "    \"level\": {\"850\"},\n",
    "    \"param\": {\"Z\"},\n",
    "    \"step\": {\"48\"}\n",
    "}]\n",
    "    \n",
    "combinations2: list[dict[str, set[Any]]] = [{\n",
    "    \"date\": {\"1990-01-01;1999-12-31\", \"2010-10-10;2020-11-11\"},\n",
    "    \"city\": {\"rome\", \"paris\", \"london\"},\n",
    "    \"level\": {\"500\"},\n",
    "    \"param\": {\"Z\"},\n",
    "    \"step\": {\"24\", \"36\", \"48\"},\n",
    "    \"time\": {\"00:00\", \"03:00\", \"12:00\", \"21:00\"}\n",
    "  }, {\n",
    "    \"date\": {\"1990-01-01;2020-12-31\"},\n",
    "    \"city\": {\"paris\", \"london\"},\n",
    "    \"level\": {\"1000\"},\n",
    "    \"param\": {\"Z\"},\n",
    "    \"step\": {\"24\", \"48\"},\n",
    "    \"time\": {\"00:00\", \"03:00\", \"12:00\", \"21:00\"}\n",
    "  }, {\n",
    "    \"date\": {\"1980-01-01;2011-12-31\"},\n",
    "    \"city\": {\"rome\", \"paris\", \"london\"},\n",
    "    \"level\": {\"850\"},\n",
    "    \"param\": {\"T\"},\n",
    "    \"step\": {\"36\", \"48\"},\n",
    "    \"time\": {\"00:00\", \"12:00\"}\n",
    "  }, {\n",
    "    \"date\": {\"2012-01-01\"},\n",
    "    \"city\": {\"Madrid\"},\n",
    "    \"level\": {\"500\"},\n",
    "    \"param\": {\"T\"},\n",
    "    \"step\": {\"48\"},\n",
    "    \"time\": {\"00:00\", \"12:00\"}\n",
    "  }, {\n",
    "    \"date\": {\"2012-01-01\"},\n",
    "    \"city\": {\"Madrid\"},\n",
    "    \"level\": {\"850\"},\n",
    "    \"param\": {\"Z\"},\n",
    "    \"step\": {\"48\"},\n",
    "    \"time\": {\"00:00\"}\n",
    "    }]\n",
    "\n",
    "    \n",
    "selection1: dict[str, set[Any]] = {\n",
    "    \"year\" : {\"1990\", \"2012\", \"2016\"},\n",
    "    \"month\" : {'1', '2', '3', '4', '5', '6', '7', '8', '9', '10', '11', '12'},\n",
    "    \"day\" : {'1','2','3','4','5','6','7','8','9','10','11','12','13','14','15','16','17','18','19','20','21','22','23','24','25','26','27','28','29'},\n",
    "    \"time\" : {\"00:00\", \"03:00\", \"12:00\", \"21:00\"},\n",
    "    \"city\": {\"rome\", \"paris\", \"london\", \"madrid\"},\n",
    "    \"level\": {\"500\", \"850\"},\n",
    "    \"param\": {\"Z\", \"T\"},\n",
    "    \"step\": {\"24\", \"36\", \"48\"}\n",
    "}\n",
    "\n",
    "selection2: dict[str, set[Any]] = {\n",
    "    #\"date\": {\"2017-01-01;2018-12-31\"},\n",
    "    \"time\" : {\"00:00\", \"03:00\", \"12:00\"},\n",
    "    \"city\": {\"paris\", \"Rome\"},\n",
    "    \"level\": {\"850\"},\n",
    "    \"param\": {\"Z\", \"T\"},\n",
    "    \"step\": {\"24\", \"36\", \"48\"}\n",
    "}\n",
    "    \n",
    "    \n",
    "from cads_catalogue_api_service import constrictor\n",
    "constrictor.apply_constraints(\n",
    "form,\n",
    "selection1\n",
    "combinations1\n",
    ")\n"
   ]
  },
  {
   "cell_type": "code",
   "execution_count": 77,
   "id": "6111a7ee",
   "metadata": {},
   "outputs": [
    {
     "data": {
      "text/plain": [
       "[26,\n",
       " 6,\n",
       " 1,\n",
       " 27,\n",
       " 8,\n",
       " 21,\n",
       " 12,\n",
       " 7,\n",
       " 2,\n",
       " 24,\n",
       " 25,\n",
       " 19,\n",
       " 10,\n",
       " 15,\n",
       " 17,\n",
       " 4,\n",
       " 28,\n",
       " 20,\n",
       " 11,\n",
       " 5,\n",
       " 23,\n",
       " 9,\n",
       " 18,\n",
       " 16,\n",
       " 22,\n",
       " 13,\n",
       " 14,\n",
       " 1,\n",
       " 3]"
      ]
     },
     "execution_count": 77,
     "metadata": {},
     "output_type": "execute_result"
    }
   ],
   "source": [
    "[e.day for e in \n",
    "constrictor.convert_date_range_to_date_set(\"2001-02-01;2001-03-01\")]"
   ]
  },
  {
   "cell_type": "code",
   "execution_count": 74,
   "id": "d154fc7a",
   "metadata": {},
   "outputs": [
    {
     "ename": "ValueError",
     "evalue": "day is out of range for month",
     "output_type": "error",
     "traceback": [
      "\u001b[0;31m---------------------------------------------------------------------------\u001b[0m",
      "\u001b[0;31mValueError\u001b[0m                                Traceback (most recent call last)",
      "Cell \u001b[0;32mIn [74], line 1\u001b[0m\n\u001b[0;32m----> 1\u001b[0m \u001b[43mdatetime\u001b[49m\u001b[38;5;241;43m.\u001b[39;49m\u001b[43mdatetime\u001b[49m\u001b[38;5;241;43m.\u001b[39;49m\u001b[43mstrptime\u001b[49m\u001b[43m(\u001b[49m\u001b[38;5;124;43m\"\u001b[39;49m\u001b[38;5;124;43m2001-02-29\u001b[39;49m\u001b[38;5;124;43m\"\u001b[39;49m\u001b[43m,\u001b[49m\u001b[43m \u001b[49m\u001b[38;5;124;43m\"\u001b[39;49m\u001b[38;5;124;43m%\u001b[39;49m\u001b[38;5;124;43mY-\u001b[39;49m\u001b[38;5;124;43m%\u001b[39;49m\u001b[38;5;124;43mm-\u001b[39;49m\u001b[38;5;132;43;01m%d\u001b[39;49;00m\u001b[38;5;124;43m\"\u001b[39;49m\u001b[43m)\u001b[49m\n",
      "File \u001b[0;32m~/opt/miniconda3/envs/cads/lib/python3.10/_strptime.py:568\u001b[0m, in \u001b[0;36m_strptime_datetime\u001b[0;34m(cls, data_string, format)\u001b[0m\n\u001b[1;32m    565\u001b[0m \u001b[38;5;28;01mdef\u001b[39;00m \u001b[38;5;21m_strptime_datetime\u001b[39m(\u001b[38;5;28mcls\u001b[39m, data_string, \u001b[38;5;28mformat\u001b[39m\u001b[38;5;241m=\u001b[39m\u001b[38;5;124m\"\u001b[39m\u001b[38;5;132;01m%a\u001b[39;00m\u001b[38;5;124m \u001b[39m\u001b[38;5;124m%\u001b[39m\u001b[38;5;124mb \u001b[39m\u001b[38;5;132;01m%d\u001b[39;00m\u001b[38;5;124m \u001b[39m\u001b[38;5;124m%\u001b[39m\u001b[38;5;124mH:\u001b[39m\u001b[38;5;124m%\u001b[39m\u001b[38;5;124mM:\u001b[39m\u001b[38;5;124m%\u001b[39m\u001b[38;5;124mS \u001b[39m\u001b[38;5;124m%\u001b[39m\u001b[38;5;124mY\u001b[39m\u001b[38;5;124m\"\u001b[39m):\n\u001b[1;32m    566\u001b[0m     \u001b[38;5;124;03m\"\"\"Return a class cls instance based on the input string and the\u001b[39;00m\n\u001b[1;32m    567\u001b[0m \u001b[38;5;124;03m    format string.\"\"\"\u001b[39;00m\n\u001b[0;32m--> 568\u001b[0m     tt, fraction, gmtoff_fraction \u001b[38;5;241m=\u001b[39m \u001b[43m_strptime\u001b[49m\u001b[43m(\u001b[49m\u001b[43mdata_string\u001b[49m\u001b[43m,\u001b[49m\u001b[43m \u001b[49m\u001b[38;5;28;43mformat\u001b[39;49m\u001b[43m)\u001b[49m\n\u001b[1;32m    569\u001b[0m     tzname, gmtoff \u001b[38;5;241m=\u001b[39m tt[\u001b[38;5;241m-\u001b[39m\u001b[38;5;241m2\u001b[39m:]\n\u001b[1;32m    570\u001b[0m     args \u001b[38;5;241m=\u001b[39m tt[:\u001b[38;5;241m6\u001b[39m] \u001b[38;5;241m+\u001b[39m (fraction,)\n",
      "File \u001b[0;32m~/opt/miniconda3/envs/cads/lib/python3.10/_strptime.py:534\u001b[0m, in \u001b[0;36m_strptime\u001b[0;34m(data_string, format)\u001b[0m\n\u001b[1;32m    527\u001b[0m         julian \u001b[38;5;241m+\u001b[39m\u001b[38;5;241m=\u001b[39m yday\n\u001b[1;32m    529\u001b[0m \u001b[38;5;28;01mif\u001b[39;00m julian \u001b[38;5;129;01mis\u001b[39;00m \u001b[38;5;28;01mNone\u001b[39;00m:\n\u001b[1;32m    530\u001b[0m     \u001b[38;5;66;03m# Cannot pre-calculate datetime_date() since can change in Julian\u001b[39;00m\n\u001b[1;32m    531\u001b[0m     \u001b[38;5;66;03m# calculation and thus could have different value for the day of\u001b[39;00m\n\u001b[1;32m    532\u001b[0m     \u001b[38;5;66;03m# the week calculation.\u001b[39;00m\n\u001b[1;32m    533\u001b[0m     \u001b[38;5;66;03m# Need to add 1 to result since first day of the year is 1, not 0.\u001b[39;00m\n\u001b[0;32m--> 534\u001b[0m     julian \u001b[38;5;241m=\u001b[39m \u001b[43mdatetime_date\u001b[49m\u001b[43m(\u001b[49m\u001b[43myear\u001b[49m\u001b[43m,\u001b[49m\u001b[43m \u001b[49m\u001b[43mmonth\u001b[49m\u001b[43m,\u001b[49m\u001b[43m \u001b[49m\u001b[43mday\u001b[49m\u001b[43m)\u001b[49m\u001b[38;5;241m.\u001b[39mtoordinal() \u001b[38;5;241m-\u001b[39m \\\n\u001b[1;32m    535\u001b[0m               datetime_date(year, \u001b[38;5;241m1\u001b[39m, \u001b[38;5;241m1\u001b[39m)\u001b[38;5;241m.\u001b[39mtoordinal() \u001b[38;5;241m+\u001b[39m \u001b[38;5;241m1\u001b[39m\n\u001b[1;32m    536\u001b[0m \u001b[38;5;28;01melse\u001b[39;00m:  \u001b[38;5;66;03m# Assume that if they bothered to include Julian day (or if it was\u001b[39;00m\n\u001b[1;32m    537\u001b[0m        \u001b[38;5;66;03m# calculated above with year/week/weekday) it will be accurate.\u001b[39;00m\n\u001b[1;32m    538\u001b[0m     datetime_result \u001b[38;5;241m=\u001b[39m datetime_date\u001b[38;5;241m.\u001b[39mfromordinal(\n\u001b[1;32m    539\u001b[0m                         (julian \u001b[38;5;241m-\u001b[39m \u001b[38;5;241m1\u001b[39m) \u001b[38;5;241m+\u001b[39m\n\u001b[1;32m    540\u001b[0m                         datetime_date(year, \u001b[38;5;241m1\u001b[39m, \u001b[38;5;241m1\u001b[39m)\u001b[38;5;241m.\u001b[39mtoordinal())\n",
      "\u001b[0;31mValueError\u001b[0m: day is out of range for month"
     ]
    }
   ],
   "source": [
    "datetime.datetime.strptime(\"2001-02-29\", \"%Y-%m-%d\")"
   ]
  },
  {
   "cell_type": "code",
   "execution_count": null,
   "id": "44c42ece",
   "metadata": {},
   "outputs": [],
   "source": []
  },
  {
   "cell_type": "code",
   "execution_count": 73,
   "id": "b785adb5",
   "metadata": {},
   "outputs": [],
   "source": [
    "def test_convert_date_range_to_date_set():\n",
    "    start = \"2000-01-01\"\n",
    "    stop = \"2000-01-31\"\n",
    "    separator = \";\"\n",
    "        \n",
    "    assert constrictor.convert_date_range_to_date_set(f\"{start}{separator}{stop}\") \\\n",
    "           == {\n",
    "               datetime.datetime.strptime(start, \"%Y-%m-%d\")\n",
    "               + datetime.timedelta(days=x) for x in range(31)}\n",
    "test_convert_date_range_to_date_set()"
   ]
  },
  {
   "cell_type": "code",
   "execution_count": 71,
   "id": "f00666ea",
   "metadata": {
    "scrolled": true
   },
   "outputs": [],
   "source": [
    "def get_max_date(combinations):\n",
    "    dates = []\n",
    "    for combination in combinations:\n",
    "        if \"date\" in combination.keys():\n",
    "            for date in combination[\"date\"]:\n",
    "                dates.append(datetime.strptime(re.split(\";|/\", date)[0], '%Y-%m-%d'))\n",
    "    return min(dates)\n",
    "\n",
    "def get_min_date(combinations):\n",
    "    dates = []\n",
    "    for combination in combinations:\n",
    "        if \"date\" in combination.keys():\n",
    "            for date in combination[\"date\"]:\n",
    "                try:\n",
    "                    dates.append(datetime.strptime(re.split(\";|/\", date)[1], '%Y-%m-%d'))\n",
    "                except IndexError:\n",
    "                    dates.append(datetime.strptime(re.split(\";|/\", date)[0], '%Y-%m-%d'))\n",
    "\n",
    "    return max(dates)\n",
    "    \n",
    "def get_available_time_range(combinations):\n",
    "    start = get_start_date(combinations)\n",
    "    stop = get_stop_date(combinations)\n",
    "    return f\"{start.strftime('%Y-%m-%d')}/{stop.strftime('%Y-%m-%d')}\"\n",
    "\n"
   ]
  },
  {
   "cell_type": "code",
   "execution_count": 10,
   "id": "c42e248e",
   "metadata": {},
   "outputs": [
    {
     "data": {
      "text/plain": [
       "{datetime.datetime(2000, 1, 1, 0, 0),\n",
       " datetime.datetime(2000, 1, 2, 0, 0),\n",
       " datetime.datetime(2000, 1, 28, 0, 0),\n",
       " datetime.datetime(2000, 1, 29, 0, 0),\n",
       " datetime.datetime(2000, 1, 31, 0, 0),\n",
       " datetime.datetime(2000, 2, 1, 0, 0),\n",
       " datetime.datetime(2000, 2, 2, 0, 0),\n",
       " datetime.datetime(2000, 2, 28, 0, 0),\n",
       " datetime.datetime(2000, 2, 29, 0, 0),\n",
       " datetime.datetime(2000, 3, 1, 0, 0),\n",
       " datetime.datetime(2000, 3, 2, 0, 0),\n",
       " datetime.datetime(2000, 3, 28, 0, 0),\n",
       " datetime.datetime(2000, 3, 29, 0, 0),\n",
       " datetime.datetime(2000, 3, 31, 0, 0),\n",
       " datetime.datetime(2001, 1, 1, 0, 0),\n",
       " datetime.datetime(2001, 1, 2, 0, 0),\n",
       " datetime.datetime(2001, 1, 28, 0, 0),\n",
       " datetime.datetime(2001, 1, 29, 0, 0),\n",
       " datetime.datetime(2001, 1, 31, 0, 0),\n",
       " datetime.datetime(2001, 2, 1, 0, 0),\n",
       " datetime.datetime(2001, 2, 2, 0, 0),\n",
       " datetime.datetime(2001, 2, 28, 0, 0),\n",
       " datetime.datetime(2001, 3, 1, 0, 0),\n",
       " datetime.datetime(2001, 3, 2, 0, 0),\n",
       " datetime.datetime(2001, 3, 28, 0, 0),\n",
       " datetime.datetime(2001, 3, 29, 0, 0),\n",
       " datetime.datetime(2001, 3, 31, 0, 0),\n",
       " datetime.datetime(2020, 1, 1, 0, 0),\n",
       " datetime.datetime(2020, 1, 2, 0, 0),\n",
       " datetime.datetime(2020, 1, 28, 0, 0),\n",
       " datetime.datetime(2020, 1, 29, 0, 0),\n",
       " datetime.datetime(2020, 1, 31, 0, 0),\n",
       " datetime.datetime(2020, 2, 1, 0, 0),\n",
       " datetime.datetime(2020, 2, 2, 0, 0),\n",
       " datetime.datetime(2020, 2, 28, 0, 0),\n",
       " datetime.datetime(2020, 2, 29, 0, 0),\n",
       " datetime.datetime(2020, 3, 1, 0, 0),\n",
       " datetime.datetime(2020, 3, 2, 0, 0),\n",
       " datetime.datetime(2020, 3, 28, 0, 0),\n",
       " datetime.datetime(2020, 3, 29, 0, 0),\n",
       " datetime.datetime(2020, 3, 31, 0, 0)}"
      ]
     },
     "execution_count": 10,
     "metadata": {},
     "output_type": "execute_result"
    }
   ],
   "source": [
    "y = {\"2000\",\"2001\",\"2020\"}\n",
    "m = {\"01\",\"03\",\"02\"}\n",
    "d = {\"01\", \"02\", \"28\", \"29\", \"31\"}\n",
    "t = {\"00:00\", \"03:00\", \"12:00\", \"21:00\"}\n",
    "\n",
    "def compute_ymdt_combinations(y,m,d,t):\n",
    "    combinations = set()\n",
    "    for x in set(itertools.product(y, m, d, t)):\n",
    "        try:\n",
    "            hh, mm = x[3].split(\":\")\n",
    "            s = datetime(int(x[0]), int(x[1]), int(x[2]), int(hh), int(mm))\n",
    "            combinations.add(s)\n",
    "        except ValueError:\n",
    "            continue\n",
    "    return combinations\n",
    "\n",
    "\n",
    "\n",
    "compute_ymd_combinations(y,m,d)"
   ]
  },
  {
   "cell_type": "code",
   "execution_count": 63,
   "id": "87754ea2",
   "metadata": {
    "scrolled": false
   },
   "outputs": [
    {
     "data": {
      "text/plain": [
       "[datetime.datetime(1990, 1, 1, 0, 0),\n",
       " datetime.datetime(1990, 1, 2, 0, 0),\n",
       " datetime.datetime(1990, 1, 3, 0, 0),\n",
       " datetime.datetime(1990, 1, 4, 0, 0),\n",
       " datetime.datetime(1990, 1, 5, 0, 0)]"
      ]
     },
     "execution_count": 63,
     "metadata": {},
     "output_type": "execute_result"
    }
   ],
   "source": [
    "def convert_date_range_to_date_set(date_range):\n",
    "    start_stop_interval = re.split(\";|/\", date_range)\n",
    "    match len(start_stop_interval):\n",
    "        case 1:\n",
    "            return datetime.strptime(start_stop_interval[0], '%Y-%m-%d') \n",
    "        case 2:\n",
    "            start = datetime.strptime(start_stop_interval[0], '%Y-%m-%d')\n",
    "            stop = datetime.strptime(start_stop_interval[1], '%Y-%m-%d')\n",
    "            return [start + timedelta(days=x) for x in range((stop-start).days + 1)]\n",
    "\n",
    "convert_date_range_to_date_set(\"1990-01-01/2011-12-31\")[:5]\n",
    "\n",
    "    "
   ]
  },
  {
   "cell_type": "code",
   "execution_count": null,
   "id": "50047601",
   "metadata": {},
   "outputs": [],
   "source": [
    "    "
   ]
  },
  {
   "cell_type": "code",
   "execution_count": null,
   "id": "ff6f0c03",
   "metadata": {},
   "outputs": [],
   "source": []
  },
  {
   "cell_type": "code",
   "execution_count": null,
   "id": "4b61a27c",
   "metadata": {},
   "outputs": [],
   "source": []
  },
  {
   "cell_type": "code",
   "execution_count": null,
   "id": "ab8dbd9e",
   "metadata": {},
   "outputs": [],
   "source": [
    "from datetimerange import DateTimeRange\n",
    "\n",
    "def gen_time_range_from_string(string: str) -> DateTimeRange:\n",
    "        dates = re.split(\";|/\", string)\n",
    "        time_range = DateTimeRange(dates[0], dates[1])\n",
    "        time_range.start_time_format = \"%Y-%m-%d\"\n",
    "        time_range.end_time_format = \"%Y-%m-%d\"\n",
    "        if time_range.is_valid_timerange():\n",
    "            return time_range\n",
    "        else:\n",
    "            raise ValueError('Selected start date must be before end date')\n",
    "\n",
    "def drop_unavailable(\n",
    "    selected_time_range: set[str],\n",
    "    valid_combinations: list[dict[str, set[Any]]],\n",
    ") -> dict[str, set[Any]]:\n",
    "    \n",
    "    selected_time_range = gen_time_range_from_string(selected_time_range)\n",
    "    for i in range(len(valid_combinations)-1, -1, -1):\n",
    "        ok = False;\n",
    "        valid_time_ranges = [gen_time_range_from_string(string) for string in valid_combinations[i][\"date\"]]\n",
    "        for valid_time_range in valid_time_ranges:\n",
    "            if selected_time_range in valid_time_range:\n",
    "                ok = True\n",
    "                break\n",
    "        if not ok:\n",
    "            del valid_combinations[i]\n",
    "        else:\n",
    "            valid_combinations[i].pop(\"date\")\n",
    "    return valid_combinations\n",
    "\n",
    "\n",
    "def apply_constraints(valid_combinations, selection):\n",
    "    if (\"date\" in valid_combinations[0]) & (\"date\" in selection.keys()):\n",
    "        valid_combinations = drop_unavailable(next(iter(selection[\"date\"])), valid_combinations)\n",
    "        date = selection.pop(\"date\") # pop out \"date\" otherwise get_possible_values will not work\n",
    "        possible_values = get_possible_values(selection, valid_combinations)\n",
    "        if possible_values:\n",
    "            possible_values.setdefault(\"date\", date) # get \"date\" back in, use selected time range\n",
    "    else:\n",
    "        possible_values = get_possible_values(selection, valid_combinations)\n",
    "    return possible_values"
   ]
  },
  {
   "cell_type": "code",
   "execution_count": null,
   "id": "16b3385b",
   "metadata": {},
   "outputs": [],
   "source": [
    "path = \"/Users/nicola/devel/notebooks/data/constraints/eac4_constraints.json\"\n",
    "valid_combinations = load_combinations(path)\n",
    "\n",
    "current_selection: dict[str, set[Any]] = {\n",
    "        # valid time range: {'2003-01-01/2021-12-31'},\n",
    "        #'date': {'2040-01-02/2080-01-13'},\n",
    "        #'date': {'1980-01-02/1990-01-13'},\n",
    "        #'date': {'2000-01-02/2010-01-13'},\n",
    "        #'date': {'2010-01-02/2030-01-13'},\n",
    "        'date': {'2005-01-02/2010-01-13'},\n",
    "        'variable': {'10m_u_component_of_wind'},\n",
    "        'time': {'00:00'},\n",
    "}\n",
    "       \n",
    "path = \"/Users/nicola/devel/notebooks/data/constraints/cmip6_constraints.json\"\n",
    "valid_combinations = load_combinations(path)\n",
    "\n",
    "current_selection: dict[str, set[Any]] = {\n",
    "    \"experiment\" : {\"historical\"},\n",
    "    \"variable\": {\"specific_humidity\"},\n",
    "    \"year\": {\"2014\", \"2000\"}\n",
    "}\n",
    "\n",
    "apply_constraints(valid_combinations, current_selection)\n",
    "\n",
    "path = \"/Users/nicola/devel/notebooks/data/constraints/gfas_constaints.json\"\n",
    "valid_combinations = load_combinations(path)\n",
    "\n",
    "current_selection: dict[str, set[Any]] = {\n",
    "    \"variable\": {\"wildfire_overall_flux_of_burnt_carbon\"},\n",
    "    \"date\": {\"2003-01-01/2022-10-09\"}\n",
    "}\n",
    "apply_constraints(valid_combinations, current_selection)"
   ]
  }
 ],
 "metadata": {
  "kernelspec": {
   "display_name": "Python 3 (ipykernel)",
   "language": "python",
   "name": "python3"
  },
  "language_info": {
   "codemirror_mode": {
    "name": "ipython",
    "version": 3
   },
   "file_extension": ".py",
   "mimetype": "text/x-python",
   "name": "python",
   "nbconvert_exporter": "python",
   "pygments_lexer": "ipython3",
   "version": "3.10.6"
  }
 },
 "nbformat": 4,
 "nbformat_minor": 5
}
