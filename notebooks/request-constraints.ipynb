{
 "cells": [
  {
   "cell_type": "code",
   "execution_count": 3,
   "id": "ba0819f5-3bca-4fc4-8ab7-2207b23fc1d0",
   "metadata": {
    "scrolled": true
   },
   "outputs": [],
   "source": [
    "from typing import Any\n",
    "import json\n",
    "import datetime\n",
    "import re\n",
    "import itertools\n",
    "from cads_catalogue_api_service import constrictor\n",
    "import inputs"
   ]
  },
  {
   "cell_type": "code",
   "execution_count": 4,
   "id": "99aab275",
   "metadata": {},
   "outputs": [
    {
     "name": "stdout",
     "output_type": "stream",
     "text": [
      "The autoreload extension is already loaded. To reload it, use:\n",
      "  %reload_ext autoreload\n"
     ]
    }
   ],
   "source": [
    "%load_ext autoreload\n",
    "%autoreload 2"
   ]
  },
  {
   "cell_type": "code",
   "execution_count": 10,
   "id": "154c579f",
   "metadata": {},
   "outputs": [
    {
     "data": {
      "text/plain": [
       "{'date': ['1980-01-01/2011-12-31'],\n",
       " 'level': ['1000', '500'],\n",
       " 'year': [1980,\n",
       "  1981,\n",
       "  1982,\n",
       "  1983,\n",
       "  1984,\n",
       "  1985,\n",
       "  1986,\n",
       "  1987,\n",
       "  1988,\n",
       "  1989,\n",
       "  1990,\n",
       "  1991,\n",
       "  1992,\n",
       "  1993,\n",
       "  1994,\n",
       "  1995,\n",
       "  1996,\n",
       "  1997,\n",
       "  1998,\n",
       "  1999,\n",
       "  2000,\n",
       "  2001,\n",
       "  2002,\n",
       "  2003,\n",
       "  2004,\n",
       "  2005,\n",
       "  2006,\n",
       "  2007,\n",
       "  2008,\n",
       "  2009,\n",
       "  2010,\n",
       "  2011],\n",
       " 'month': [1, 2, 3, 4, 5, 6, 7, 8, 9, 10, 11, 12],\n",
       " 'day': [1,\n",
       "  2,\n",
       "  3,\n",
       "  4,\n",
       "  5,\n",
       "  6,\n",
       "  7,\n",
       "  8,\n",
       "  9,\n",
       "  10,\n",
       "  11,\n",
       "  12,\n",
       "  13,\n",
       "  14,\n",
       "  15,\n",
       "  16,\n",
       "  17,\n",
       "  18,\n",
       "  19,\n",
       "  20,\n",
       "  21,\n",
       "  22,\n",
       "  23,\n",
       "  24,\n",
       "  25,\n",
       "  26,\n",
       "  27,\n",
       "  28,\n",
       "  29,\n",
       "  30,\n",
       "  31]}"
      ]
     },
     "execution_count": 10,
     "metadata": {},
     "output_type": "execute_result"
    }
   ],
   "source": [
    "form = constrictor.parse_form(inputs.form)\n",
    "selection = constrictor.parse_selection(inputs.selection2)\n",
    "combinations = constrictor.parse_combinations(inputs.combinations2)\n",
    "constrictor.apply_constraints(form, selection, combinations)"
   ]
  },
  {
   "cell_type": "code",
   "execution_count": 8,
   "id": "2d0a299a",
   "metadata": {},
   "outputs": [
    {
     "data": {
      "text/plain": [
       "{datetime.datetime(2000, 2, 1, 0, 0),\n",
       " datetime.datetime(2000, 2, 29, 0, 0),\n",
       " datetime.datetime(2002, 2, 1, 0, 0)}"
      ]
     },
     "execution_count": 8,
     "metadata": {},
     "output_type": "execute_result"
    }
   ],
   "source": [
    "constrictor.convert_ymd_to_dates_set({\"2000\", \"2002\"}, {\"02\"}, {\"1\", \"29\"})"
   ]
  },
  {
   "cell_type": "code",
   "execution_count": 73,
   "id": "23a14677",
   "metadata": {},
   "outputs": [],
   "source": [
    "def test_convert_date_range_to_date_set():\n",
    "    start = \"2000-01-01\"\n",
    "    stop = \"2000-01-31\"\n",
    "    separator = \";\"\n",
    "        \n",
    "    assert constrictor.convert_date_range_to_date_set(f\"{start}{separator}{stop}\") \\\n",
    "           == {\n",
    "               datetime.datetime.strptime(start, \"%Y-%m-%d\")\n",
    "               + datetime.timedelta(days=x) for x in range(31)}\n",
    "test_convert_date_range_to_date_set()"
   ]
  },
  {
   "cell_type": "code",
   "execution_count": 71,
   "id": "f00666ea",
   "metadata": {
    "scrolled": true
   },
   "outputs": [],
   "source": [
    "def get_max_date(combinations):\n",
    "    dates = []\n",
    "    for combination in combinations:\n",
    "        if \"date\" in combination.keys():\n",
    "            for date in combination[\"date\"]:\n",
    "                dates.append(datetime.strptime(re.split(\";|/\", date)[0], '%Y-%m-%d'))\n",
    "    return min(dates)\n",
    "\n",
    "def get_min_date(combinations):\n",
    "    dates = []\n",
    "    for combination in combinations:\n",
    "        if \"date\" in combination.keys():\n",
    "            for date in combination[\"date\"]:\n",
    "                try:\n",
    "                    dates.append(datetime.strptime(re.split(\";|/\", date)[1], '%Y-%m-%d'))\n",
    "                except IndexError:\n",
    "                    dates.append(datetime.strptime(re.split(\";|/\", date)[0], '%Y-%m-%d'))\n",
    "\n",
    "    return max(dates)\n",
    "    \n",
    "def get_available_time_range(combinations):\n",
    "    start = get_start_date(combinations)\n",
    "    stop = get_stop_date(combinations)\n",
    "    return f\"{start.strftime('%Y-%m-%d')}/{stop.strftime('%Y-%m-%d')}\"\n",
    "\n"
   ]
  },
  {
   "cell_type": "code",
   "execution_count": 10,
   "id": "c42e248e",
   "metadata": {},
   "outputs": [
    {
     "data": {
      "text/plain": [
       "{datetime.datetime(2000, 1, 1, 0, 0),\n",
       " datetime.datetime(2000, 1, 2, 0, 0),\n",
       " datetime.datetime(2000, 1, 28, 0, 0),\n",
       " datetime.datetime(2000, 1, 29, 0, 0),\n",
       " datetime.datetime(2000, 1, 31, 0, 0),\n",
       " datetime.datetime(2000, 2, 1, 0, 0),\n",
       " datetime.datetime(2000, 2, 2, 0, 0),\n",
       " datetime.datetime(2000, 2, 28, 0, 0),\n",
       " datetime.datetime(2000, 2, 29, 0, 0),\n",
       " datetime.datetime(2000, 3, 1, 0, 0),\n",
       " datetime.datetime(2000, 3, 2, 0, 0),\n",
       " datetime.datetime(2000, 3, 28, 0, 0),\n",
       " datetime.datetime(2000, 3, 29, 0, 0),\n",
       " datetime.datetime(2000, 3, 31, 0, 0),\n",
       " datetime.datetime(2001, 1, 1, 0, 0),\n",
       " datetime.datetime(2001, 1, 2, 0, 0),\n",
       " datetime.datetime(2001, 1, 28, 0, 0),\n",
       " datetime.datetime(2001, 1, 29, 0, 0),\n",
       " datetime.datetime(2001, 1, 31, 0, 0),\n",
       " datetime.datetime(2001, 2, 1, 0, 0),\n",
       " datetime.datetime(2001, 2, 2, 0, 0),\n",
       " datetime.datetime(2001, 2, 28, 0, 0),\n",
       " datetime.datetime(2001, 3, 1, 0, 0),\n",
       " datetime.datetime(2001, 3, 2, 0, 0),\n",
       " datetime.datetime(2001, 3, 28, 0, 0),\n",
       " datetime.datetime(2001, 3, 29, 0, 0),\n",
       " datetime.datetime(2001, 3, 31, 0, 0),\n",
       " datetime.datetime(2020, 1, 1, 0, 0),\n",
       " datetime.datetime(2020, 1, 2, 0, 0),\n",
       " datetime.datetime(2020, 1, 28, 0, 0),\n",
       " datetime.datetime(2020, 1, 29, 0, 0),\n",
       " datetime.datetime(2020, 1, 31, 0, 0),\n",
       " datetime.datetime(2020, 2, 1, 0, 0),\n",
       " datetime.datetime(2020, 2, 2, 0, 0),\n",
       " datetime.datetime(2020, 2, 28, 0, 0),\n",
       " datetime.datetime(2020, 2, 29, 0, 0),\n",
       " datetime.datetime(2020, 3, 1, 0, 0),\n",
       " datetime.datetime(2020, 3, 2, 0, 0),\n",
       " datetime.datetime(2020, 3, 28, 0, 0),\n",
       " datetime.datetime(2020, 3, 29, 0, 0),\n",
       " datetime.datetime(2020, 3, 31, 0, 0)}"
      ]
     },
     "execution_count": 10,
     "metadata": {},
     "output_type": "execute_result"
    }
   ],
   "source": [
    "y = {\"2000\",\"2001\",\"2020\"}\n",
    "m = {\"01\",\"03\",\"02\"}\n",
    "d = {\"01\", \"02\", \"28\", \"29\", \"31\"}\n",
    "t = {\"00:00\", \"03:00\", \"12:00\", \"21:00\"}\n",
    "\n",
    "def compute_ymdt_combinations(y,m,d,t):\n",
    "    combinations = set()\n",
    "    for x in set(itertools.product(y, m, d, t)):\n",
    "        try:\n",
    "            hh, mm = x[3].split(\":\")\n",
    "            s = datetime(int(x[0]), int(x[1]), int(x[2]), int(hh), int(mm))\n",
    "            combinations.add(s)\n",
    "        except ValueError:\n",
    "            continue\n",
    "    return combinations\n",
    "\n",
    "\n",
    "\n",
    "compute_ymd_combinations(y,m,d)"
   ]
  },
  {
   "cell_type": "code",
   "execution_count": 63,
   "id": "87754ea2",
   "metadata": {
    "scrolled": false
   },
   "outputs": [
    {
     "data": {
      "text/plain": [
       "[datetime.datetime(1990, 1, 1, 0, 0),\n",
       " datetime.datetime(1990, 1, 2, 0, 0),\n",
       " datetime.datetime(1990, 1, 3, 0, 0),\n",
       " datetime.datetime(1990, 1, 4, 0, 0),\n",
       " datetime.datetime(1990, 1, 5, 0, 0)]"
      ]
     },
     "execution_count": 63,
     "metadata": {},
     "output_type": "execute_result"
    }
   ],
   "source": [
    "def convert_date_range_to_date_set(date_range):\n",
    "    start_stop_interval = re.split(\";|/\", date_range)\n",
    "    match len(start_stop_interval):\n",
    "        case 1:\n",
    "            return datetime.strptime(start_stop_interval[0], '%Y-%m-%d') \n",
    "        case 2:\n",
    "            start = datetime.strptime(start_stop_interval[0], '%Y-%m-%d')\n",
    "            stop = datetime.strptime(start_stop_interval[1], '%Y-%m-%d')\n",
    "            return [start + timedelta(days=x) for x in range((stop-start).days + 1)]\n",
    "\n",
    "convert_date_range_to_date_set(\"1990-01-01/2011-12-31\")[:5]\n",
    "\n",
    "    "
   ]
  },
  {
   "cell_type": "code",
   "execution_count": null,
   "id": "50047601",
   "metadata": {},
   "outputs": [],
   "source": [
    "    "
   ]
  },
  {
   "cell_type": "code",
   "execution_count": null,
   "id": "ff6f0c03",
   "metadata": {},
   "outputs": [],
   "source": []
  },
  {
   "cell_type": "code",
   "execution_count": null,
   "id": "4b61a27c",
   "metadata": {},
   "outputs": [],
   "source": []
  },
  {
   "cell_type": "code",
   "execution_count": null,
   "id": "ab8dbd9e",
   "metadata": {},
   "outputs": [],
   "source": [
    "from datetimerange import DateTimeRange\n",
    "\n",
    "def gen_time_range_from_string(string: str) -> DateTimeRange:\n",
    "        dates = re.split(\";|/\", string)\n",
    "        time_range = DateTimeRange(dates[0], dates[1])\n",
    "        time_range.start_time_format = \"%Y-%m-%d\"\n",
    "        time_range.end_time_format = \"%Y-%m-%d\"\n",
    "        if time_range.is_valid_timerange():\n",
    "            return time_range\n",
    "        else:\n",
    "            raise ValueError('Selected start date must be before end date')\n",
    "\n",
    "def drop_unavailable(\n",
    "    selected_time_range: set[str],\n",
    "    valid_combinations: list[dict[str, set[Any]]],\n",
    ") -> dict[str, set[Any]]:\n",
    "    \n",
    "    selected_time_range = gen_time_range_from_string(selected_time_range)\n",
    "    for i in range(len(valid_combinations)-1, -1, -1):\n",
    "        ok = False;\n",
    "        valid_time_ranges = [gen_time_range_from_string(string) for string in valid_combinations[i][\"date\"]]\n",
    "        for valid_time_range in valid_time_ranges:\n",
    "            if selected_time_range in valid_time_range:\n",
    "                ok = True\n",
    "                break\n",
    "        if not ok:\n",
    "            del valid_combinations[i]\n",
    "        else:\n",
    "            valid_combinations[i].pop(\"date\")\n",
    "    return valid_combinations\n",
    "\n",
    "\n",
    "def apply_constraints(valid_combinations, selection):\n",
    "    if (\"date\" in valid_combinations[0]) & (\"date\" in selection.keys()):\n",
    "        valid_combinations = drop_unavailable(next(iter(selection[\"date\"])), valid_combinations)\n",
    "        date = selection.pop(\"date\") # pop out \"date\" otherwise get_possible_values will not work\n",
    "        possible_values = get_possible_values(selection, valid_combinations)\n",
    "        if possible_values:\n",
    "            possible_values.setdefault(\"date\", date) # get \"date\" back in, use selected time range\n",
    "    else:\n",
    "        possible_values = get_possible_values(selection, valid_combinations)\n",
    "    return possible_values"
   ]
  },
  {
   "cell_type": "code",
   "execution_count": null,
   "id": "16b3385b",
   "metadata": {},
   "outputs": [],
   "source": [
    "path = \"/Users/nicola/devel/notebooks/data/constraints/eac4_constraints.json\"\n",
    "valid_combinations = load_combinations(path)\n",
    "\n",
    "current_selection: dict[str, set[Any]] = {\n",
    "        # valid time range: {'2003-01-01/2021-12-31'},\n",
    "        #'date': {'2040-01-02/2080-01-13'},\n",
    "        #'date': {'1980-01-02/1990-01-13'},\n",
    "        #'date': {'2000-01-02/2010-01-13'},\n",
    "        #'date': {'2010-01-02/2030-01-13'},\n",
    "        'date': {'2005-01-02/2010-01-13'},\n",
    "        'variable': {'10m_u_component_of_wind'},\n",
    "        'time': {'00:00'},\n",
    "}\n",
    "       \n",
    "path = \"/Users/nicola/devel/notebooks/data/constraints/cmip6_constraints.json\"\n",
    "valid_combinations = load_combinations(path)\n",
    "\n",
    "current_selection: dict[str, set[Any]] = {\n",
    "    \"experiment\" : {\"historical\"},\n",
    "    \"variable\": {\"specific_humidity\"},\n",
    "    \"year\": {\"2014\", \"2000\"}\n",
    "}\n",
    "\n",
    "apply_constraints(valid_combinations, current_selection)\n",
    "\n",
    "path = \"/Users/nicola/devel/notebooks/data/constraints/gfas_constaints.json\"\n",
    "valid_combinations = load_combinations(path)\n",
    "\n",
    "current_selection: dict[str, set[Any]] = {\n",
    "    \"variable\": {\"wildfire_overall_flux_of_burnt_carbon\"},\n",
    "    \"date\": {\"2003-01-01/2022-10-09\"}\n",
    "}\n",
    "apply_constraints(valid_combinations, current_selection)"
   ]
  }
 ],
 "metadata": {
  "kernelspec": {
   "display_name": "Python 3 (ipykernel)",
   "language": "python",
   "name": "python3"
  },
  "language_info": {
   "codemirror_mode": {
    "name": "ipython",
    "version": 3
   },
   "file_extension": ".py",
   "mimetype": "text/x-python",
   "name": "python",
   "nbconvert_exporter": "python",
   "pygments_lexer": "ipython3",
   "version": "3.10.6"
  }
 },
 "nbformat": 4,
 "nbformat_minor": 5
}
